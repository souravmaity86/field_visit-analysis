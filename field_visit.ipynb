{
 "cells": [
  {
   "cell_type": "code",
   "execution_count": 46,
   "id": "84ad2891-e5a8-4d37-98ae-5958b3e39ec8",
   "metadata": {},
   "outputs": [],
   "source": [
    "import pandas as pd\n",
    "df=pd.read_csv(\"task.csv\")"
   ]
  },
  {
   "cell_type": "code",
   "execution_count": 47,
   "id": "ec55776a-7a73-490e-a64e-14c1d23c0d99",
   "metadata": {},
   "outputs": [
    {
     "name": "stdout",
     "output_type": "stream",
     "text": [
      "<class 'pandas.core.frame.DataFrame'>\n",
      "RangeIndex: 322 entries, 0 to 321\n",
      "Data columns (total 11 columns):\n",
      " #   Column               Non-Null Count  Dtype \n",
      "---  ------               --------------  ----- \n",
      " 0   village_name         322 non-null    object\n",
      " 1   farmer_name          322 non-null    object\n",
      " 2   purpose_of _visit    322 non-null    object\n",
      " 3   selfie_with _farmer  322 non-null    object\n",
      " 4   time 1               322 non-null    object\n",
      " 5   time of visit        322 non-null    object\n",
      " 6   hour                 322 non-null    object\n",
      " 7   timing               322 non-null    int64 \n",
      " 8   FR Name              322 non-null    object\n",
      " 9   Remarks              287 non-null    object\n",
      " 10  Task Status          322 non-null    object\n",
      "dtypes: int64(1), object(10)\n",
      "memory usage: 27.8+ KB\n"
     ]
    }
   ],
   "source": [
    "df.info()"
   ]
  },
  {
   "cell_type": "code",
   "execution_count": 54,
   "id": "58e5bf56-c4ee-4e90-a495-82f357625aaa",
   "metadata": {},
   "outputs": [],
   "source": [
    "df['timing'] = df['timing'].astype(int)"
   ]
  },
  {
   "cell_type": "code",
   "execution_count": 55,
   "id": "629f7f1c-fae8-4001-880f-8327c091816f",
   "metadata": {},
   "outputs": [
    {
     "name": "stdout",
     "output_type": "stream",
     "text": [
      "<class 'pandas.core.frame.DataFrame'>\n",
      "RangeIndex: 322 entries, 0 to 321\n",
      "Data columns (total 11 columns):\n",
      " #   Column               Non-Null Count  Dtype \n",
      "---  ------               --------------  ----- \n",
      " 0   village_name         322 non-null    object\n",
      " 1   farmer_name          322 non-null    object\n",
      " 2   purpose_of _visit    322 non-null    object\n",
      " 3   selfie_with _farmer  322 non-null    object\n",
      " 4   time 1               322 non-null    object\n",
      " 5   time of visit        322 non-null    object\n",
      " 6   hour                 322 non-null    object\n",
      " 7   timing               322 non-null    int64 \n",
      " 8   FR Name              322 non-null    object\n",
      " 9   Remarks              287 non-null    object\n",
      " 10  Task Status          322 non-null    object\n",
      "dtypes: int64(1), object(10)\n",
      "memory usage: 27.8+ KB\n"
     ]
    }
   ],
   "source": [
    "df.info()"
   ]
  },
  {
   "cell_type": "code",
   "execution_count": 56,
   "id": "8db277a9-72dd-4dbd-a955-27f79cdff84d",
   "metadata": {},
   "outputs": [
    {
     "data": {
      "text/html": [
       "<div>\n",
       "<style scoped>\n",
       "    .dataframe tbody tr th:only-of-type {\n",
       "        vertical-align: middle;\n",
       "    }\n",
       "\n",
       "    .dataframe tbody tr th {\n",
       "        vertical-align: top;\n",
       "    }\n",
       "\n",
       "    .dataframe thead th {\n",
       "        text-align: right;\n",
       "    }\n",
       "</style>\n",
       "<table border=\"1\" class=\"dataframe\">\n",
       "  <thead>\n",
       "    <tr style=\"text-align: right;\">\n",
       "      <th></th>\n",
       "      <th>village_name</th>\n",
       "      <th>farmer_name</th>\n",
       "      <th>purpose_of _visit</th>\n",
       "      <th>selfie_with _farmer</th>\n",
       "      <th>time 1</th>\n",
       "      <th>time of visit</th>\n",
       "      <th>hour</th>\n",
       "      <th>timing</th>\n",
       "      <th>FR Name</th>\n",
       "      <th>Remarks</th>\n",
       "      <th>Task Status</th>\n",
       "    </tr>\n",
       "  </thead>\n",
       "  <tbody>\n",
       "    <tr>\n",
       "      <th>0</th>\n",
       "      <td>Kabowakching</td>\n",
       "      <td>Lukhoi</td>\n",
       "      <td>Sourcing</td>\n",
       "      <td>Production/video_captures/36-fp-fr-fr-daily-re...</td>\n",
       "      <td>2023-03-24-17-21-51-452439.jpg</td>\n",
       "      <td>2023-03-24-17-21</td>\n",
       "      <td>17-21</td>\n",
       "      <td>17</td>\n",
       "      <td>Chanam Somorjit Singh</td>\n",
       "      <td>Complete</td>\n",
       "      <td>Complete</td>\n",
       "    </tr>\n",
       "    <tr>\n",
       "      <th>1</th>\n",
       "      <td>Sabal Leikai</td>\n",
       "      <td>Tomba</td>\n",
       "      <td>Sourcing</td>\n",
       "      <td>Production/video_captures/36-fp-fr-fr-daily-re...</td>\n",
       "      <td>2023-03-24-17-21-01-830337.jpg</td>\n",
       "      <td>2023-03-24-17-21</td>\n",
       "      <td>17-21</td>\n",
       "      <td>17</td>\n",
       "      <td>Chanam Somorjit Singh</td>\n",
       "      <td>Complete</td>\n",
       "      <td>Complete</td>\n",
       "    </tr>\n",
       "    <tr>\n",
       "      <th>2</th>\n",
       "      <td>Sabal Leikai</td>\n",
       "      <td>Manda</td>\n",
       "      <td>Sourcing</td>\n",
       "      <td>Production/video_captures/36-fp-fr-fr-daily-re...</td>\n",
       "      <td>2023-03-24-17-15-54-088928.jpg</td>\n",
       "      <td>2023-03-24-17-15</td>\n",
       "      <td>17-15</td>\n",
       "      <td>17</td>\n",
       "      <td>Chanam Somorjit Singh</td>\n",
       "      <td>Complete</td>\n",
       "      <td>Complete</td>\n",
       "    </tr>\n",
       "    <tr>\n",
       "      <th>3</th>\n",
       "      <td>Kabowakching</td>\n",
       "      <td>ibemma</td>\n",
       "      <td>Sourcing</td>\n",
       "      <td>Production/video_captures/36-fp-fr-fr-daily-re...</td>\n",
       "      <td>2023-03-24-17-12-46-299630.jpg</td>\n",
       "      <td>2023-03-24-17-12</td>\n",
       "      <td>17-12</td>\n",
       "      <td>17</td>\n",
       "      <td>Chanam Somorjit Singh</td>\n",
       "      <td>Complete</td>\n",
       "      <td>Complete</td>\n",
       "    </tr>\n",
       "    <tr>\n",
       "      <th>4</th>\n",
       "      <td>Kabowakching</td>\n",
       "      <td>ibeyaima</td>\n",
       "      <td>Sourcing</td>\n",
       "      <td>Production/video_captures/36-fp-fr-fr-daily-re...</td>\n",
       "      <td>2023-03-24-17-09-53-823357.jpg</td>\n",
       "      <td>2023-03-24-17-09</td>\n",
       "      <td>17-09</td>\n",
       "      <td>17</td>\n",
       "      <td>Chanam Somorjit Singh</td>\n",
       "      <td>Complete</td>\n",
       "      <td>Complete</td>\n",
       "    </tr>\n",
       "  </tbody>\n",
       "</table>\n",
       "</div>"
      ],
      "text/plain": [
       "   village_name farmer_name purpose_of _visit  \\\n",
       "0  Kabowakching      Lukhoi          Sourcing   \n",
       "1  Sabal Leikai       Tomba          Sourcing   \n",
       "2  Sabal Leikai       Manda          Sourcing   \n",
       "3  Kabowakching      ibemma          Sourcing   \n",
       "4  Kabowakching    ibeyaima          Sourcing   \n",
       "\n",
       "                                 selfie_with _farmer  \\\n",
       "0  Production/video_captures/36-fp-fr-fr-daily-re...   \n",
       "1  Production/video_captures/36-fp-fr-fr-daily-re...   \n",
       "2  Production/video_captures/36-fp-fr-fr-daily-re...   \n",
       "3  Production/video_captures/36-fp-fr-fr-daily-re...   \n",
       "4  Production/video_captures/36-fp-fr-fr-daily-re...   \n",
       "\n",
       "                           time 1     time of visit   hour  timing  \\\n",
       "0  2023-03-24-17-21-51-452439.jpg  2023-03-24-17-21  17-21      17   \n",
       "1  2023-03-24-17-21-01-830337.jpg  2023-03-24-17-21  17-21      17   \n",
       "2  2023-03-24-17-15-54-088928.jpg  2023-03-24-17-15  17-15      17   \n",
       "3  2023-03-24-17-12-46-299630.jpg  2023-03-24-17-12  17-12      17   \n",
       "4  2023-03-24-17-09-53-823357.jpg  2023-03-24-17-09  17-09      17   \n",
       "\n",
       "                 FR Name   Remarks Task Status  \n",
       "0  Chanam Somorjit Singh  Complete    Complete  \n",
       "1  Chanam Somorjit Singh  Complete    Complete  \n",
       "2  Chanam Somorjit Singh  Complete    Complete  \n",
       "3  Chanam Somorjit Singh  Complete    Complete  \n",
       "4  Chanam Somorjit Singh  Complete    Complete  "
      ]
     },
     "execution_count": 56,
     "metadata": {},
     "output_type": "execute_result"
    }
   ],
   "source": [
    "df.head(5)"
   ]
  },
  {
   "cell_type": "code",
   "execution_count": 50,
   "id": "235e687a-a00e-40dc-841a-40c4304065c4",
   "metadata": {},
   "outputs": [
    {
     "name": "stdout",
     "output_type": "stream",
     "text": [
      "Requirement already satisfied: pandas-profiling in /opt/conda/lib/python3.10/site-packages (3.6.6)\n",
      "Requirement already satisfied: ydata-profiling in /opt/conda/lib/python3.10/site-packages (from pandas-profiling) (4.1.1)\n",
      "Requirement already satisfied: visions[type_image_path]==0.7.5 in /opt/conda/lib/python3.10/site-packages (from ydata-profiling->pandas-profiling) (0.7.5)\n",
      "Requirement already satisfied: phik<0.13,>=0.11.1 in /opt/conda/lib/python3.10/site-packages (from ydata-profiling->pandas-profiling) (0.12.3)\n",
      "Requirement already satisfied: pydantic<1.11,>=1.8.1 in /opt/conda/lib/python3.10/site-packages (from ydata-profiling->pandas-profiling) (1.10.7)\n",
      "Requirement already satisfied: PyYAML<6.1,>=5.0.0 in /opt/conda/lib/python3.10/site-packages (from ydata-profiling->pandas-profiling) (6.0)\n",
      "Requirement already satisfied: pandas!=1.4.0,<1.6,>1.1 in /opt/conda/lib/python3.10/site-packages (from ydata-profiling->pandas-profiling) (1.5.1)\n",
      "Requirement already satisfied: jinja2<3.2,>=2.11.1 in /opt/conda/lib/python3.10/site-packages (from ydata-profiling->pandas-profiling) (3.1.2)\n",
      "Requirement already satisfied: numpy<1.24,>=1.16.0 in /opt/conda/lib/python3.10/site-packages (from ydata-profiling->pandas-profiling) (1.23.4)\n",
      "Requirement already satisfied: htmlmin==0.1.12 in /opt/conda/lib/python3.10/site-packages (from ydata-profiling->pandas-profiling) (0.1.12)\n",
      "Requirement already satisfied: requests<2.29,>=2.24.0 in /opt/conda/lib/python3.10/site-packages (from ydata-profiling->pandas-profiling) (2.28.1)\n",
      "Requirement already satisfied: multimethod<1.10,>=1.4 in /opt/conda/lib/python3.10/site-packages (from ydata-profiling->pandas-profiling) (1.9.1)\n",
      "Requirement already satisfied: statsmodels<0.14,>=0.13.2 in /opt/conda/lib/python3.10/site-packages (from ydata-profiling->pandas-profiling) (0.13.2)\n",
      "Requirement already satisfied: typeguard<2.14,>=2.13.2 in /opt/conda/lib/python3.10/site-packages (from ydata-profiling->pandas-profiling) (2.13.3)\n",
      "Requirement already satisfied: scipy<1.10,>=1.4.1 in /opt/conda/lib/python3.10/site-packages (from ydata-profiling->pandas-profiling) (1.9.3)\n",
      "Requirement already satisfied: tqdm<4.65,>=4.48.2 in /opt/conda/lib/python3.10/site-packages (from ydata-profiling->pandas-profiling) (4.64.1)\n",
      "Requirement already satisfied: imagehash==4.3.1 in /opt/conda/lib/python3.10/site-packages (from ydata-profiling->pandas-profiling) (4.3.1)\n",
      "Requirement already satisfied: seaborn<0.13,>=0.10.1 in /opt/conda/lib/python3.10/site-packages (from ydata-profiling->pandas-profiling) (0.12.0)\n",
      "Requirement already satisfied: matplotlib<3.7,>=3.2 in /opt/conda/lib/python3.10/site-packages (from ydata-profiling->pandas-profiling) (3.6.1)\n",
      "Requirement already satisfied: PyWavelets in /opt/conda/lib/python3.10/site-packages (from imagehash==4.3.1->ydata-profiling->pandas-profiling) (1.3.0)\n",
      "Requirement already satisfied: pillow in /opt/conda/lib/python3.10/site-packages (from imagehash==4.3.1->ydata-profiling->pandas-profiling) (9.2.0)\n",
      "Requirement already satisfied: attrs>=19.3.0 in /opt/conda/lib/python3.10/site-packages (from visions[type_image_path]==0.7.5->ydata-profiling->pandas-profiling) (22.1.0)\n",
      "Requirement already satisfied: tangled-up-in-unicode>=0.0.4 in /opt/conda/lib/python3.10/site-packages (from visions[type_image_path]==0.7.5->ydata-profiling->pandas-profiling) (0.2.0)\n",
      "Requirement already satisfied: networkx>=2.4 in /opt/conda/lib/python3.10/site-packages (from visions[type_image_path]==0.7.5->ydata-profiling->pandas-profiling) (2.8.7)\n",
      "Requirement already satisfied: MarkupSafe>=2.0 in /opt/conda/lib/python3.10/site-packages (from jinja2<3.2,>=2.11.1->ydata-profiling->pandas-profiling) (2.1.1)\n",
      "Requirement already satisfied: python-dateutil>=2.7 in /opt/conda/lib/python3.10/site-packages (from matplotlib<3.7,>=3.2->ydata-profiling->pandas-profiling) (2.8.2)\n",
      "Requirement already satisfied: cycler>=0.10 in /opt/conda/lib/python3.10/site-packages (from matplotlib<3.7,>=3.2->ydata-profiling->pandas-profiling) (0.11.0)\n",
      "Requirement already satisfied: pyparsing>=2.2.1 in /opt/conda/lib/python3.10/site-packages (from matplotlib<3.7,>=3.2->ydata-profiling->pandas-profiling) (3.0.9)\n",
      "Requirement already satisfied: contourpy>=1.0.1 in /opt/conda/lib/python3.10/site-packages (from matplotlib<3.7,>=3.2->ydata-profiling->pandas-profiling) (1.0.5)\n",
      "Requirement already satisfied: packaging>=20.0 in /opt/conda/lib/python3.10/site-packages (from matplotlib<3.7,>=3.2->ydata-profiling->pandas-profiling) (21.3)\n",
      "Requirement already satisfied: kiwisolver>=1.0.1 in /opt/conda/lib/python3.10/site-packages (from matplotlib<3.7,>=3.2->ydata-profiling->pandas-profiling) (1.4.4)\n",
      "Requirement already satisfied: fonttools>=4.22.0 in /opt/conda/lib/python3.10/site-packages (from matplotlib<3.7,>=3.2->ydata-profiling->pandas-profiling) (4.38.0)\n",
      "Requirement already satisfied: pytz>=2020.1 in /opt/conda/lib/python3.10/site-packages (from pandas!=1.4.0,<1.6,>1.1->ydata-profiling->pandas-profiling) (2022.5)\n",
      "Requirement already satisfied: joblib>=0.14.1 in /opt/conda/lib/python3.10/site-packages (from phik<0.13,>=0.11.1->ydata-profiling->pandas-profiling) (1.2.0)\n",
      "Requirement already satisfied: typing-extensions>=4.2.0 in /opt/conda/lib/python3.10/site-packages (from pydantic<1.11,>=1.8.1->ydata-profiling->pandas-profiling) (4.4.0)\n",
      "Requirement already satisfied: urllib3<1.27,>=1.21.1 in /opt/conda/lib/python3.10/site-packages (from requests<2.29,>=2.24.0->ydata-profiling->pandas-profiling) (1.26.11)\n",
      "Requirement already satisfied: charset-normalizer<3,>=2 in /opt/conda/lib/python3.10/site-packages (from requests<2.29,>=2.24.0->ydata-profiling->pandas-profiling) (2.1.1)\n",
      "Requirement already satisfied: certifi>=2017.4.17 in /opt/conda/lib/python3.10/site-packages (from requests<2.29,>=2.24.0->ydata-profiling->pandas-profiling) (2022.9.24)\n",
      "Requirement already satisfied: idna<4,>=2.5 in /opt/conda/lib/python3.10/site-packages (from requests<2.29,>=2.24.0->ydata-profiling->pandas-profiling) (3.4)\n",
      "Requirement already satisfied: patsy>=0.5.2 in /opt/conda/lib/python3.10/site-packages (from statsmodels<0.14,>=0.13.2->ydata-profiling->pandas-profiling) (0.5.3)\n",
      "Requirement already satisfied: six in /opt/conda/lib/python3.10/site-packages (from patsy>=0.5.2->statsmodels<0.14,>=0.13.2->ydata-profiling->pandas-profiling) (1.16.0)\n",
      "Note: you may need to restart the kernel to use updated packages.\n"
     ]
    }
   ],
   "source": [
    "pip install pandas-profiling"
   ]
  },
  {
   "cell_type": "code",
   "execution_count": 57,
   "id": "55fe123a-f92a-4d1e-8806-c668b184b920",
   "metadata": {},
   "outputs": [],
   "source": [
    "import pandas_profiling\n",
    "profile=df.profile_report()"
   ]
  },
  {
   "cell_type": "code",
   "execution_count": 58,
   "id": "b932bef9-5295-4e14-8e01-aafe17045f14",
   "metadata": {},
   "outputs": [
    {
     "data": {
      "application/vnd.jupyter.widget-view+json": {
       "model_id": "ce3b5f23cd884513bd28c96eed7d449c",
       "version_major": 2,
       "version_minor": 0
      },
      "text/plain": [
       "Summarize dataset:   0%|          | 0/5 [00:00<?, ?it/s]"
      ]
     },
     "metadata": {},
     "output_type": "display_data"
    },
    {
     "data": {
      "application/vnd.jupyter.widget-view+json": {
       "model_id": "4747904b7dbb432b8b7a2943dab97182",
       "version_major": 2,
       "version_minor": 0
      },
      "text/plain": [
       "Generate report structure:   0%|          | 0/1 [00:00<?, ?it/s]"
      ]
     },
     "metadata": {},
     "output_type": "display_data"
    },
    {
     "data": {
      "application/vnd.jupyter.widget-view+json": {
       "model_id": "635921ce17044452966d03417c109d2e",
       "version_major": 2,
       "version_minor": 0
      },
      "text/plain": [
       "Render HTML:   0%|          | 0/1 [00:00<?, ?it/s]"
      ]
     },
     "metadata": {},
     "output_type": "display_data"
    },
    {
     "data": {
      "application/vnd.jupyter.widget-view+json": {
       "model_id": "cb81a628e9aa419c8a993808fb316979",
       "version_major": 2,
       "version_minor": 0
      },
      "text/plain": [
       "Export report to file:   0%|          | 0/1 [00:00<?, ?it/s]"
      ]
     },
     "metadata": {},
     "output_type": "display_data"
    }
   ],
   "source": [
    "profile.to_file(output_file=\"visit_analysis.html\")"
   ]
  },
  {
   "cell_type": "code",
   "execution_count": null,
   "id": "15315c2e-bcba-4e93-bc5f-1cfc20f37b07",
   "metadata": {},
   "outputs": [],
   "source": []
  },
  {
   "cell_type": "code",
   "execution_count": null,
   "id": "dff9679e-944b-4f8b-a846-017db3f0cd12",
   "metadata": {},
   "outputs": [],
   "source": []
  }
 ],
 "metadata": {
  "kernelspec": {
   "display_name": "Python 3 (ipykernel)",
   "language": "python",
   "name": "python3"
  },
  "language_info": {
   "codemirror_mode": {
    "name": "ipython",
    "version": 3
   },
   "file_extension": ".py",
   "mimetype": "text/x-python",
   "name": "python",
   "nbconvert_exporter": "python",
   "pygments_lexer": "ipython3",
   "version": "3.10.6"
  }
 },
 "nbformat": 4,
 "nbformat_minor": 5
}
